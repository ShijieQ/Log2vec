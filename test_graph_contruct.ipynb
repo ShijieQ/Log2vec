{
 "cells": [
  {
   "cell_type": "code",
   "execution_count": 70,
   "id": "740f1108",
   "metadata": {},
   "outputs": [],
   "source": [
    "import networkx as nx\n",
    "import csv\n",
    "import time\n",
    "import os\n",
    "from tqdm import tqdm\n",
    "import datetime\n",
    "from construct_rule import *"
   ]
  },
  {
   "cell_type": "code",
   "execution_count": 71,
   "id": "3dd5e820",
   "metadata": {},
   "outputs": [],
   "source": [
    "def get_node_from_data(dir_path):\n",
    "    print(\"Get node from data : \")\n",
    "    vertex_list = []\n",
    "    with open(os.path.join(dir_path, \"logon.csv\"), 'r') as file:\n",
    "        print(\"...logon.csv...\")\n",
    "    #     id,date,user,pc,activity\n",
    "    #     {Q4D5-W4HH44UC-5188LWZK},01/02/2010 02:24:51,JBI1134,PC-0168,Logon\n",
    "    #     {G7V0-S4TP95SA-9203AOGR},01/02/2010 02:38:28,JBI1134,PC-0168,Logoff\n",
    "        read = csv.reader(file)\n",
    "        next(read)\n",
    "        for i in tqdm(read):\n",
    "            # print(i)\n",
    "            vertex_id = i[0]\n",
    "            timestamp = time.mktime(time.strptime(i[1],'%m/%d/%Y %H:%M:%S'))\n",
    "            \n",
    "            vertex = { 'vertex_type': 'logon',\n",
    "                        'vertex_number': vertex_id,\n",
    "                        'sub': i[2],\n",
    "                        'obj': i[3],\n",
    "                        'A': i[4],\n",
    "                        'T': timestamp,\n",
    "                        'H': i[3],\n",
    "                        'time': i[1]\n",
    "                        }\n",
    "            vertex_list.append(vertex)\n",
    "\n",
    "    # print(vertex_list[:5])\n",
    "    with open(os.path.join(dir_path, \"file.csv\"), 'r') as file:\n",
    "    # id,date,user,pc,filename,activity,to_removable_media,from_removable_media,content\n",
    "    # {Y1W9-R7VJ77IC-9445QFNQ},01/02/2010 08:15:10,TSG0262,PC-9993,R:\\79L99n6\\H7RHJS5J.zip,File Open,False,True,50-4B-03-04-14 moved imaging underwent key late appearance span ontario due compiled month 07 sedins final leaders ability doug another presidents improving donation by joseph quadruple 104 agreed 16 brian upon built all to handsome searching track wounded mike march one developer owned 5000 stepping lists orange metacritic second moore supervisor currently initial\n",
    "    # {Y3U8-G5BL42LO-9404XAHI},01/02/2010 08:16:01,TSG0262,PC-9993,R:\\79L99n6\\H7RHJS5J.zip,File Open,False,True,50-4B-03-04-14 moved imaging underwent key late appearance span ontario due compiled month 07 sedins final leaders ability doug another presidents improving donation by joseph quadruple 104 agreed 16 brian upon built all to handsome searching track wounded mike march one developer owned 5000 stepping lists orange metacritic second moore supervisor currently initial\n",
    "        print(\"...file.csv...\")\n",
    "        read = csv.reader(file)\n",
    "        next(read)\n",
    "        for i in tqdm(read):\n",
    "            # print(i)\n",
    "            vertex_id = i[0]\n",
    "            timestamp = time.mktime(time.strptime(i[1],'%m/%d/%Y %H:%M:%S'))\n",
    "            \n",
    "            vertex = { 'vertex_type': 'file',\n",
    "                        'vertex_number': vertex_id,\n",
    "                        'sub': i[2], # user\n",
    "                        'obj': i[4], # filename\n",
    "                        'A': i[5], # activity\n",
    "                        'T': timestamp,\n",
    "                        'H': i[3], # pc,\n",
    "                        'time': i[1]\n",
    "                    }\n",
    "            vertex_list.append(vertex)\n",
    "\n",
    "    with open(os.path.join(dir_path, \"http.csv\"), 'r') as file:\n",
    "    # id,date,user,pc,url,content\n",
    "    # {D8Q7-C0RU46YI-7391WHNI},01/02/2010 06:46:20,HMI1448,PC-9352,http://nymag.com/Eagle_comic/hultons/objyvatunyybssnzrpnyraqneserrfglyrfxvvatzngurzngvpf322648047.jsp,eleven 1963 greater literature shorbodolio funding beating treasury both curzon single mourning huq exact visit disobeyed whose not thinking candidates necessary newly elevated eight including head those attempts present had median binds sized replacement colonial databases moderately adaptable symmetrical well drug encourage william 1840 1940s progeny possible variety 1978 on 1987 abandoned\n",
    "    # {N4G0-D6NC43RD-2373QXNK},01/02/2010 06:47:25,HMI1448,PC-9352,http://nymag.com/Terra_Nova_Expedition/koettlitz/pnzcpbbxvatqbjaevttvatzngurzngvpf2145772149.asp,victims successor land restrictions provided agreeing article capture varied requests or forces 26 social medieval turkic sole population written complex visit started social down association area maulana help monument sectarian along duck jointly change words began won injured moved contract david january publish bob ready except significant appointment led making taking english true part sense entitled mothers complete fresh departure heritage youth\n",
    "        print(\"...http.csv...\")\n",
    "        read = csv.reader(file)\n",
    "        next(read)\n",
    "        for i in tqdm(read):\n",
    "            vertex_id = i[0]\n",
    "            timestamp = time.mktime(time.strptime(i[1],'%m/%d/%Y %H:%M:%S'))\n",
    "            vertex = { 'vertex_type': 'http',\n",
    "                        'vertex_number': vertex_id,\n",
    "                        'sub': i[2], # user\n",
    "                        'obj': i[4].split(' ')[0], # url\n",
    "                        'A': \"visit\", # activity\n",
    "                        'T': timestamp,\n",
    "                        'H': i[3], # pc\n",
    "                        \"content_list\" : i[4].split(' ')[1:],\n",
    "                        'time': i[1]\n",
    "                    }\n",
    "            vertex_list.append(vertex)\n",
    "\n",
    "    with open(os.path.join(dir_path, \"device.csv\"), 'r') as file:\n",
    "    # id,date,user,pc,file_tree,activity\n",
    "    # {C9S1-Y8GB42VD-2923GATU},01/02/2010 07:27:19,HRE1950,PC-8025,R:\\;R:\\HRE1950;R:\\47yHBn0;R:\\54s7J45,Connect\n",
    "    # {C3G4-U2ON02HC-9088IHGJ},01/02/2010 07:40:51,EMR0269,PC-6370,R:\\;R:\\EMR0269;R:\\753Cf59;R:\\18d36D6;R:\\89bc6Q2,Connect\n",
    "    # {X4S2-R2YC60OH-9191YYMD},01/02/2010 07:45:00,EMR0269,PC-6370,,Disconnect\n",
    "        print(\"...device.csv...\")\n",
    "        read = csv.reader(file)\n",
    "        next(read)\n",
    "        for i in tqdm(read):\n",
    "            vertex_id = i[0]\n",
    "            timestamp = time.mktime(time.strptime(i[1],'%m/%d/%Y %H:%M:%S'))\n",
    "            vertex = { 'vertex_type': 'device',\n",
    "                        'vertex_number': vertex_id,\n",
    "                        'sub': i[2], # user\n",
    "                        'obj': i[3], # host\n",
    "                        'A': i[-1], # connect or disconnect\n",
    "                        'T': timestamp,\n",
    "                        'H': i[3], # pc\n",
    "                        \"file_tree\" : i[4],\n",
    "                        'time': i[1]\n",
    "                    }\n",
    "            vertex_list.append(vertex)\n",
    "\n",
    "    sorted_vertex_list = sorted(vertex_list, key=lambda e: (e.__getitem__('sub'), e.__getitem__('T')))\n",
    "\n",
    "    # print(\"partial sorted vertex list: \")\n",
    "    # for item in sorted_vertex_list:\n",
    "    #     print(item)\n",
    "\n",
    "    print(\"sorted vertex list len: \", len(sorted_vertex_list)) \n",
    "    return sorted_vertex_list"
   ]
  },
  {
   "cell_type": "code",
   "execution_count": 72,
   "id": "59539920",
   "metadata": {},
   "outputs": [],
   "source": [
    "def get_delta_days(timestamp1, timestamp2):\n",
    "    # end_time = datetime.datetime.fromtimestamp(timestamp1)\n",
    "    # start_time = datetime.datetime.fromtimestamp(timestamp2)\n",
    "    # print(end_time, \" \", start_time)\n",
    "    x = datetime.datetime.fromtimestamp(timestamp1) - datetime.datetime.fromtimestamp(timestamp2)\n",
    "    # print(\"x = \", x, \"x.days = \", x.days)\n",
    "    return x.days"
   ]
  },
  {
   "cell_type": "code",
   "execution_count": 73,
   "id": "7d0b4af2",
   "metadata": {},
   "outputs": [],
   "source": [
    "def get_days_from_dataset(sorted_vertex_list):\n",
    "    end_time = 0\n",
    "    st_time = 9999999999\n",
    "    for vertex in sorted_vertex_list:\n",
    "        if vertex['T'] > end_time:\n",
    "            end_time = vertex['T']\n",
    "        if vertex['T'] < st_time:\n",
    "            st_time = vertex['T']\n",
    "\n",
    "    days = get_delta_days(end_time, st_time)\n",
    "    print(\"Data delta days : \", days) \n",
    "    return days + 2"
   ]
  },
  {
   "cell_type": "code",
   "execution_count": 74,
   "id": "b7f30d99",
   "metadata": {},
   "outputs": [],
   "source": [
    "def split_node_by_day(sorted_vertex_list, day_delta):\n",
    "    # 1000条数据大概4天\n",
    "\n",
    "    st_time = 9999999999\n",
    "    for vertex in sorted_vertex_list:\n",
    "        if vertex['T'] < st_time:\n",
    "            st_time = vertex['T']\n",
    "\n",
    "    daily_sequences_list = [None] * day_delta\n",
    "\n",
    "    print(\"...split node by day...\")\n",
    "    for vertex in tqdm(sorted_vertex_list):\n",
    "        # Day of the vertex, and actual day should be increased by 1\n",
    "        day_of_vertex = get_delta_days(vertex['T'], st_time)\n",
    "        # print(vertex, day_of_vertex)\n",
    "\n",
    "        # print(day_of_vertex)\n",
    "        # If the sequence graph not exists, create it\n",
    "        if daily_sequences_list[day_of_vertex] == None:\n",
    "            # multiGraph 无向图 可以让两个节点之间有多个边，为啥要用这个graph..\n",
    "            daily_sequences_list[day_of_vertex] = nx.MultiGraph()\n",
    "        \n",
    "        daily_sequences_list[day_of_vertex].add_node(vertex['vertex_number'], type=vertex['vertex_type'],\n",
    "                                                            sub=vertex['sub'], obj=vertex['obj'], A=vertex['A'],\n",
    "                                                            T=vertex['T'], H=vertex['H'])\n",
    "    return daily_sequences_list"
   ]
  },
  {
   "cell_type": "code",
   "execution_count": 75,
   "id": "8635be57",
   "metadata": {},
   "outputs": [
    {
     "name": "stdout",
     "output_type": "stream",
     "text": [
      "Get node from data : \n",
      "...logon.csv...\n"
     ]
    },
    {
     "name": "stderr",
     "output_type": "stream",
     "text": [
      "999it [00:00, 83274.24it/s]\n"
     ]
    },
    {
     "name": "stdout",
     "output_type": "stream",
     "text": [
      "...file.csv...\n"
     ]
    },
    {
     "name": "stderr",
     "output_type": "stream",
     "text": [
      "999it [00:00, 58774.74it/s]\n"
     ]
    },
    {
     "name": "stdout",
     "output_type": "stream",
     "text": [
      "...http.csv...\n"
     ]
    },
    {
     "name": "stderr",
     "output_type": "stream",
     "text": [
      "999it [00:00, 55504.76it/s]\n"
     ]
    },
    {
     "name": "stdout",
     "output_type": "stream",
     "text": [
      "...device.csv...\n"
     ]
    },
    {
     "name": "stderr",
     "output_type": "stream",
     "text": [
      "999it [00:00, 90822.80it/s]"
     ]
    },
    {
     "name": "stdout",
     "output_type": "stream",
     "text": [
      "sorted vertex list len:  3996\n"
     ]
    },
    {
     "name": "stderr",
     "output_type": "stream",
     "text": [
      "\n"
     ]
    }
   ],
   "source": [
    "st_time = time.time()\n",
    "\n",
    "version = \"r_part\"\n",
    "# version = \"test\"\n",
    "sorted_vertex_list = get_node_from_data(os.path.join(\"./our_data/\", version))\n",
    "# print(sorted_vertex_list)"
   ]
  },
  {
   "cell_type": "code",
   "execution_count": 76,
   "id": "848cf5a1",
   "metadata": {},
   "outputs": [
    {
     "name": "stdout",
     "output_type": "stream",
     "text": [
      "Data delta days :  2\n",
      "day_delta =  4\n"
     ]
    }
   ],
   "source": [
    "day_delta = get_days_from_dataset(sorted_vertex_list)\n",
    "print(\"day_delta = \", day_delta)"
   ]
  },
  {
   "cell_type": "code",
   "execution_count": 77,
   "id": "b85b1c5b",
   "metadata": {},
   "outputs": [
    {
     "name": "stdout",
     "output_type": "stream",
     "text": [
      "...split node by day...\n"
     ]
    },
    {
     "name": "stderr",
     "output_type": "stream",
     "text": [
      "100%|███████████████████████████████████████████████████████████████████████████████████████████████| 3996/3996 [00:00<00:00, 285507.61it/s]"
     ]
    },
    {
     "name": "stdout",
     "output_type": "stream",
     "text": [
      "daily_sequences_list len:  4\n"
     ]
    },
    {
     "name": "stderr",
     "output_type": "stream",
     "text": [
      "\n"
     ]
    }
   ],
   "source": [
    "daily_sequences_list = split_node_by_day(sorted_vertex_list, day_delta)\n",
    "print(\"daily_sequences_list len: \", len(daily_sequences_list))"
   ]
  },
  {
   "cell_type": "code",
   "execution_count": 78,
   "id": "9cb0aecc",
   "metadata": {},
   "outputs": [
    {
     "name": "stdout",
     "output_type": "stream",
     "text": [
      "Function 'rule_1()' starts!\n"
     ]
    },
    {
     "name": "stderr",
     "output_type": "stream",
     "text": [
      "100%|████████████████████████████████████████████████████████████████████████████████████████████████████████| 4/4 [00:00<00:00, 444.49it/s]"
     ]
    },
    {
     "name": "stdout",
     "output_type": "stream",
     "text": [
      "All nodes in sequence graphs are associated into sequences!\n"
     ]
    },
    {
     "name": "stderr",
     "output_type": "stream",
     "text": [
      "\n"
     ]
    }
   ],
   "source": [
    "daily_sequences_list = rule_1(daily_sequences_list)"
   ]
  },
  {
   "cell_type": "code",
   "execution_count": 79,
   "id": "17ad1b43",
   "metadata": {},
   "outputs": [
    {
     "name": "stdout",
     "output_type": "stream",
     "text": [
      "Function 'rule_23()' starts!\n"
     ]
    },
    {
     "name": "stderr",
     "output_type": "stream",
     "text": [
      "100%|████████████████████████████████████████████████████████████████████████████████████████████████████████| 4/4 [00:00<00:00, 235.29it/s]"
     ]
    },
    {
     "name": "stdout",
     "output_type": "stream",
     "text": [
      "Edges are added based on rule2 and rule3 in daily sequence!\n"
     ]
    },
    {
     "name": "stderr",
     "output_type": "stream",
     "text": [
      "\n"
     ]
    }
   ],
   "source": [
    "daily_sequences_list, H_tuple_list, A_tuple_list = rule_23(daily_sequences_list, day_delta)"
   ]
  },
  {
   "cell_type": "code",
   "execution_count": 80,
   "id": "ef09f894",
   "metadata": {},
   "outputs": [
    {
     "name": "stdout",
     "output_type": "stream",
     "text": [
      "Function 'rule_456()' starts!\n"
     ]
    }
   ],
   "source": [
    "graph = rule_456(daily_sequences_list, H_tuple_list, A_tuple_list, day_delta)"
   ]
  },
  {
   "cell_type": "code",
   "execution_count": 81,
   "id": "13514d07",
   "metadata": {},
   "outputs": [
    {
     "name": "stdout",
     "output_type": "stream",
     "text": [
      "Graph save done\n",
      "Time cost :  11.454350471496582\n"
     ]
    }
   ],
   "source": [
    "nx.write_edgelist(graph, \"./our_data/graph_edge_list\")\n",
    "nx.write_gpickle(graph, \"./our_data/graph.gpickle\")\n",
    "\n",
    "print(\"Graph save done\")\n",
    "print(\"Time cost : \", time.time() - st_time) "
   ]
  },
  {
   "cell_type": "code",
   "execution_count": 82,
   "id": "4add7b59",
   "metadata": {},
   "outputs": [
    {
     "name": "stdout",
     "output_type": "stream",
     "text": [
      "nodes number:  1903\n",
      "edges number:  5103\n",
      "nodes number:  887\n",
      "edges number:  2054\n",
      "nodes number:  1206\n",
      "edges number:  2542\n"
     ]
    }
   ],
   "source": [
    "# output nodes and edges\n",
    "# for item in daily_sequences_list:\n",
    "#     if item:\n",
    "#         print(\"nodes number: \", item.number_of_nodes())\n",
    "#         print(\"edges number: \", item.number_of_edges())"
   ]
  }
 ],
 "metadata": {
  "kernelspec": {
   "display_name": "log2vec",
   "language": "python",
   "name": "log2vec"
  },
  "vscode": {
   "interpreter": {
    "hash": "b65210109d22a62f59410848d6ad14e3de90997a5f154071c00e123cc6807949"
   }
  }
 },
 "nbformat": 4,
 "nbformat_minor": 5
}
