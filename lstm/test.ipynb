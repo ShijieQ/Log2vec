{
 "cells": [
  {
   "cell_type": "code",
   "execution_count": null,
   "metadata": {},
   "outputs": [],
   "source": [
    "import torch\n",
    "import torch.nn as nn\n",
    "import numpy as np\n",
    "import torch.utils.data as Data\n",
    "import torchvision\n",
    "import matplotlib.pyplot as plt\n",
    "import os"
   ]
  },
  {
   "cell_type": "code",
   "execution_count": null,
   "metadata": {},
   "outputs": [],
   "source": [
    "# 获得手写数据集\n",
    "train_data = torchvision.datasets.MNIST(\n",
    "    root='./lstm/datas/',   #下载到该目录下\n",
    "    train=True,                                     #为训练数据\n",
    "    transform=torchvision.transforms.ToTensor(),    #将其装换为tensor的形式\n",
    "    download=False, #第一次设置为true表示下载，下载完成后，将其置成false\n",
    ")\n",
    "\n",
    "test_data = torchvision.datasets.MNIST(\n",
    "    root='./lstm/datas/',\n",
    "    train=False, # this is testing data\n",
    "    transform=torchvision.transforms.ToTensor(),\n",
    "    download=False,\n",
    ")"
   ]
  },
  {
   "cell_type": "code",
   "execution_count": null,
   "metadata": {},
   "outputs": [],
   "source": [
    "# 载入数据\n",
    "epoch = 2\n",
    "lr = 0.01\n",
    "batch_size=512\n",
    "train_loader = Data.DataLoader(dataset=train_data, batch_size=batch_size, shuffle=True) # shuffle为True表示随机打散\n",
    "test_x = test_data.data.type(torch.FloatTensor)[:2000]/255\n",
    "test_y = test_data.targets[:2000]"
   ]
  },
  {
   "cell_type": "code",
   "execution_count": null,
   "metadata": {},
   "outputs": [],
   "source": [
    "print(len(test_x))\n",
    "print(test_y)"
   ]
  },
  {
   "cell_type": "code",
   "execution_count": null,
   "metadata": {},
   "outputs": [],
   "source": [
    "images, labels = next(iter(train_loader))\n",
    "print(images.shape, labels.shape, images.min(), images.max())\n",
    "# img = torchvision.utils.make_grid(images)\n",
    "\n",
    "# img = img.numpy().transpose(1, 2, 0)\n",
    "# std = [0.5, 0.5, 0.5]\n",
    "# mean = [0.5, 0.5, 0.5]\n",
    "# img = img * std + mean\n",
    "# print(labels)\n",
    "# cv2.imshow('win', img)\n",
    "# key_pressed = cv2.waitKey(0)"
   ]
  },
  {
   "cell_type": "code",
   "execution_count": null,
   "metadata": {},
   "outputs": [],
   "source": [
    "class LSTMnet(nn.Module):\n",
    "    def __init__(self, in_dim, hidden_dim, n_layer, n_class):\n",
    "        super(LSTMnet, self).__init__()\n",
    "        self.n_layer = n_layer\n",
    "        self.hidden_dim = hidden_dim\n",
    "        self.lstm = nn.LSTM(in_dim, hidden_dim, n_layer, batch_first=True)\n",
    "        self.linear = nn.Linear(hidden_dim, n_class)\n",
    "\n",
    "    def forward(self, x):                  # x‘s shape (batch_size, 序列长度, 序列中每个数据的长度)\n",
    "        out, _ = self.lstm(x)              # out‘s shape (batch_size, 序列长度, hidden_dim)\n",
    "        out = out[:, -1, :]                # 中间的序列长度取-1，表示取序列中的最后一个数据，这个数据长度为hidden_dim，\n",
    "                                            # 得到的out的shape为(batch_size, hidden_dim)\n",
    "        out = self.linear(out)             # 经过线性层后，out的shape为(batch_size, n_class)\n",
    "        return out"
   ]
  },
  {
   "cell_type": "code",
   "execution_count": null,
   "metadata": {},
   "outputs": [],
   "source": [
    "model = LSTMnet(28, 56, 2, 10)             # 图片大小28*28，lstm的每个隐藏层56（自己设定数量大小）个节点，2层隐藏层\n",
    "if torch.cuda.is_available():\n",
    "    model = model.cuda()\n",
    "optimizer = torch.optim.Adam(model.parameters(), lr=0.01)  # 选择优化器为Adam，也可以选择SGD\n",
    "criterion = nn.CrossEntropyLoss()                          # 选择损失函数为交叉熵"
   ]
  },
  {
   "cell_type": "code",
   "execution_count": null,
   "metadata": {},
   "outputs": [],
   "source": [
    "# training and testing\n",
    "for epoch in range(5):\n",
    "    for iteration, (train_x, train_y) in enumerate(train_loader):    # train_x‘s shape (BATCH_SIZE,1,28,28)\n",
    "        train_x = train_x.squeeze()# after squeeze, train_x‘s shape (BATCH_SIZE,28,28),\n",
    "        #print(train_x.size())  # 第一个28是序列长度(看做句子的长度)，第二个28是序列中每个数据的长度(词纬度)。\n",
    "        output = model(train_x)\n",
    "        loss = criterion(output, train_y)  # cross entropy loss\n",
    "        optimizer.zero_grad()              # clear gradients for this training step\n",
    "        loss.backward()                    # backpropagation, compute gradientsl\n",
    "        optimizer.step()                   # apply gradients\n",
    " \n",
    "        if iteration % 100 == 0:\n",
    "            test_output = model(test_x)\n",
    "            predict_y = torch.max(test_output, 1)[1].cpu().numpy()\n",
    "            accuracy = float((predict_y == test_y.cpu().numpy()).astype(int).sum()) / float(test_y.size(0))\n",
    "            print('epoch:{:<2d} | iteration:{:<4d} | loss:{:<6.4f} | accuracy:{:<4.6f}'.format(epoch, iteration, loss, accuracy))"
   ]
  },
  {
   "cell_type": "code",
   "execution_count": null,
   "metadata": {},
   "outputs": [],
   "source": [
    "a = torch.full([1, 8], 10)\n",
    "print(a)\n",
    "l = a.argmax()\n",
    "r = a.argmin()\n",
    "print(l, r)"
   ]
  }
 ],
 "metadata": {
  "kernelspec": {
   "display_name": "log2vec",
   "language": "python",
   "name": "log2vec"
  },
  "language_info": {
   "codemirror_mode": {
    "name": "ipython",
    "version": 3
   },
   "file_extension": ".py",
   "mimetype": "text/x-python",
   "name": "python",
   "nbconvert_exporter": "python",
   "pygments_lexer": "ipython3",
   "version": "3.6.13"
  },
  "orig_nbformat": 4
 },
 "nbformat": 4,
 "nbformat_minor": 2
}
