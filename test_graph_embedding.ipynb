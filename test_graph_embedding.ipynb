{
 "cells": [
  {
   "cell_type": "code",
   "execution_count": 1,
   "id": "1b869a12",
   "metadata": {},
   "outputs": [],
   "source": [
    "import numpy as np\n",
    "\n",
    "from graph_emb.classify import read_node_label, Classifier\n",
    "from graph_emb import DeepWalk\n",
    "from sklearn.linear_model import LogisticRegression\n",
    "\n",
    "import matplotlib.pyplot as plt\n",
    "import networkx as nx\n",
    "from sklearn.manifold import TSNE\n",
    "from sklearn.cluster import DBSCAN"
   ]
  },
  {
   "cell_type": "code",
   "execution_count": 2,
   "id": "a468f05d",
   "metadata": {},
   "outputs": [],
   "source": [
    "def evaluate_embeddings(embeddings):\n",
    "    X, Y = read_node_label('../data/wiki/wiki_labels.txt')\n",
    "    tr_frac = 0.8\n",
    "    print(\"Training classifier using {:.2f}% nodes...\".format(\n",
    "        tr_frac * 100))\n",
    "    clf = Classifier(embeddings=embeddings, clf=LogisticRegression())\n",
    "    clf.split_train_evaluate(X, Y, tr_frac)\n",
    "\n",
    "\n",
    "def plot_embeddings(embeddings,):\n",
    "    X, Y = read_node_label('../data/wiki/wiki_labels.txt')\n",
    "\n",
    "    emb_list = []\n",
    "    for k in X:\n",
    "        emb_list.append(embeddings[k])\n",
    "    emb_list = np.array(emb_list)\n",
    "\n",
    "    model = TSNE(n_components=2)\n",
    "    node_pos = model.fit_transform(emb_list)\n",
    "\n",
    "    color_idx = {}\n",
    "    for i in range(len(X)):\n",
    "        color_idx.setdefault(Y[i][0], [])\n",
    "        color_idx[Y[i][0]].append(i)\n",
    "\n",
    "    for c, idx in color_idx.items():\n",
    "        plt.scatter(node_pos[idx, 0], node_pos[idx, 1], label=c)\n",
    "    plt.legend()\n",
    "    plt.show()"
   ]
  },
  {
   "cell_type": "code",
   "execution_count": 3,
   "id": "64edf15d",
   "metadata": {},
   "outputs": [],
   "source": [
    "# read contrusted graph\n",
    "G = nx.read_gpickle(\"./our_data/graph.gpickle\")"
   ]
  },
  {
   "cell_type": "code",
   "execution_count": 4,
   "id": "b05d03b5",
   "metadata": {},
   "outputs": [
    {
     "name": "stderr",
     "output_type": "stream",
     "text": [
      "[Parallel(n_jobs=1)]: Using backend SequentialBackend with 1 concurrent workers.\n",
      "[Parallel(n_jobs=1)]: Done   1 out of   1 | elapsed:    4.6s finished\n"
     ]
    }
   ],
   "source": [
    "# 序列长度，xxx，并行worker数量\n",
    "model = DeepWalk(G, walk_length=10, num_walks=80, workers=1)"
   ]
  },
  {
   "cell_type": "code",
   "execution_count": 5,
   "id": "c3d25c90",
   "metadata": {},
   "outputs": [
    {
     "name": "stdout",
     "output_type": "stream",
     "text": [
      "Learning embedding vectors...\n",
      "Learning embedding vectors done!\n"
     ]
    }
   ],
   "source": [
    "model.train(window_size=5, iter=3) \n",
    "embeddings = model.get_embeddings()"
   ]
  },
  {
   "cell_type": "code",
   "execution_count": 6,
   "id": "c0168ea9",
   "metadata": {},
   "outputs": [],
   "source": [
    "train_X = []\n",
    "train_X_id = []\n",
    "\n",
    "for k, v in embeddings.items():\n",
    "    train_X.append(v)\n",
    "    train_X_id.append(v)\n",
    "\n",
    "train_X = np.array(train_X)\n",
    "clustering = DBSCAN().fit(train_X)\n",
    "# evaluate_embeddings(embeddings)\n",
    "# plot_embeddings(embeddings)"
   ]
  }
 ],
 "metadata": {
  "kernelspec": {
   "display_name": "log2vec",
   "language": "python",
   "name": "log2vec"
  },
  "language_info": {
   "codemirror_mode": {
    "name": "ipython",
    "version": 3
   },
   "file_extension": ".py",
   "mimetype": "text/x-python",
   "name": "python",
   "nbconvert_exporter": "python",
   "pygments_lexer": "ipython3",
   "version": "3.6.13"
  },
  "vscode": {
   "interpreter": {
    "hash": "53aae0cb78a081d5c5d2d20c6ffe483472291e7bed42f424855f0fdb32a854d6"
   }
  }
 },
 "nbformat": 4,
 "nbformat_minor": 5
}
